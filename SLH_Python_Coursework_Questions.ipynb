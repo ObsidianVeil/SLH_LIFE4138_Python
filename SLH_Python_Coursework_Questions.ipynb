{
 "cells": [
  {
   "cell_type": "markdown",
   "id": "65903689",
   "metadata": {},
   "source": [
    "# Python Coursework Conversion"
   ]
  },
  {
   "cell_type": "markdown",
   "id": "e86a2082",
   "metadata": {},
   "source": [
    "This notebook contains the Python equivalent of the R tasks provided."
   ]
  },
  {
   "cell_type": "markdown",
   "id": "fffa755b",
   "metadata": {},
   "source": [
    "### Question 1\n",
    "Create a PANDAS DataFrame with 5 rows and 2 columns. One column should be names, the other should be an Age.\n",
    "\n",
    "Remember to import pandas to be able to use it:\n",
    "\n",
    "```python\n",
    "import pandas as pd\n",
    "```\n",
    "\n",
    "Print your dataframe in the notebook."
   ]
  },
  {
   "cell_type": "code",
   "execution_count": 7,
   "id": "f164fd91",
   "metadata": {},
   "outputs": [
    {
     "name": "stdout",
     "output_type": "stream",
     "text": [
      "          names  Age\n",
      "0         Romeo   16\n",
      "1        Juliet   13\n",
      "2        Tybalt   17\n",
      "3  Lady Capulet   37\n",
      "4      Mercutio   15\n"
     ]
    }
   ],
   "source": [
    "\n",
    "#Import libraries\n",
    "import pandas as pd\n",
    "import numpy as np\n",
    "import matplotlib.pyplot as plt\n",
    "\n",
    "#create library\n",
    "RJ_characterlib = {\n",
    "    \"names\" : [\"Romeo\", \"Juliet\", \"Tybalt\", \"Lady Capulet\", \"Mercutio\"],\n",
    "    \"Age\" : [16, 13, 17, 37, 15]\n",
    "}\n",
    "\n",
    "#create dataframe\n",
    "RJ_characterDF = pd.DataFrame(RJ_characterlib)\n",
    "\n",
    "#dataframe output\n",
    "print(RJ_characterDF)\n"
   ]
  },
  {
   "cell_type": "markdown",
   "id": "bb31f387",
   "metadata": {},
   "source": [
    "### Question 2\n",
    "Provide examples of the following data structures in python and print or access them as shown.\n",
    "\n",
    "A list of ints. - print the fourth value.\n",
    "\n",
    "A tuple - print the tuple\n",
    "\n",
    "A dictionary representing the four bases of DNA - print the total number of bases represented by your dictionary.\n",
    "\n",
    "A list of lists of floats. - print the third value in the sixth list.\n",
    "\n",
    "An array of floats -  print the first four items of the array\n",
    "\n",
    "A pandas dataframe - print the 9th row.\n"
   ]
  },
  {
   "cell_type": "code",
   "execution_count": 11,
   "id": "8aa4661c",
   "metadata": {},
   "outputs": [
    {
     "name": "stdout",
     "output_type": "stream",
     "text": [
      "Position 4 in integer list is 3\n",
      "tuple list is ('Big', 'meaty', 'claws!')\n",
      "There are 3  of base A\n",
      "There are 5  of base T\n",
      "There are 10  of base G\n",
      "There are 6  of base C\n",
      "Sum of all bases is:  24\n",
      "List 6, position 3 is: 0.424\n",
      "float array position 1-4 is: [6.46 4.1  8.24]\n",
      "                   Name  Year of release\n",
      "8  Land Raider Redeemer             2000\n"
     ]
    }
   ],
   "source": [
    "#integer list\n",
    "int_list = [0, 1, 2, 3, 4, 5, 6, 7]\n",
    "print(\"Position 4 in integer list is\", int_list[3])\n",
    "\n",
    "#tuple\n",
    "tup_list = (\"Big\", \"meaty\", \"claws!\")\n",
    "print(\"tuple list is\", tup_list)\n",
    "\n",
    "#Dictionary\n",
    "DNA_dict = {\n",
    "    \"A\" : 3,\n",
    "    \"T\" : 5,\n",
    "    \"G\" : 10,\n",
    "    \"C\" : 6\n",
    "}\n",
    "\n",
    "#sum of each base\n",
    "print(\"There are\", DNA_dict[\"A\"], \" of base A\")\n",
    "print(\"There are\", DNA_dict[\"T\"], \" of base T\")\n",
    "print(\"There are\", DNA_dict[\"G\"], \" of base G\")\n",
    "print(\"There are\", DNA_dict[\"C\"], \" of base C\")\n",
    "\n",
    "#sum of all bases\n",
    "print(\"Sum of all bases is: \", DNA_dict[\"A\"] + DNA_dict[\"T\"] + DNA_dict[\"G\"] + DNA_dict[\"C\"])\n",
    "\n",
    "#list of lists (of floats)\n",
    "floatlist = [\n",
    "    [0.522, 0.332, 0.063],\n",
    "    [0.448, 0.174, 0.863],\n",
    "    [0.538, 0.549, 0.551],\n",
    "    [0.615, 0.971, 0.028],\n",
    "    [0.510, 0.363, 0.943],\n",
    "    [0.090, 0.841, 0.424],\n",
    "    [0.779, 0.421, 0.344],\n",
    "    [0.858, 0.554, 0.758],\n",
    "    [0.322, 0.422, 0.789],\n",
    "    [0.898, 0.695, 0.597]\n",
    "    ]\n",
    "print(\"List 6, position 3 is:\", floatlist[5][2])\n",
    "\n",
    "#Array of floats\n",
    "float_list = [6.46, 4.10, 8.24, 0.95, 5.06, 1.28, 6.49, 0.07, 7.38, 2.01]\n",
    "float_array = np.array(float_list)\n",
    "\n",
    "print(\"float array positions 1-4 is:\", float_array[0:3])\n",
    "\n",
    "#pandas dataframe\n",
    "yearlib = {\n",
    "   \"Name\" : [\"Intercessor\", \"Warp Spider\", \"Fire Warrior\", \"Nob\", \"Mortarion\", \"Termagant\", \"Swooping Hawk\", \"Fuegan\", \"Land Raider Redeemer\", \"Defiler\"],\n",
    "    \"Year of release\" : [2020, 1994, 2000, 2018, 2017, 2023, 2000, 2024, 2000, 2003]\n",
    "}\n",
    "\n",
    "yeardf = pd.DataFrame(yearlib)\n",
    "print(yeardf.iloc[[8]])\n"
   ]
  },
  {
   "cell_type": "markdown",
   "id": "52e30ead",
   "metadata": {},
   "source": [
    "### Question 3\n",
    "\n",
    "Use three different methods to print the numbers 200 to 300."
   ]
  },
  {
   "cell_type": "code",
   "execution_count": 12,
   "id": "1c038f6a",
   "metadata": {},
   "outputs": [
    {
     "name": "stdin",
     "output_type": "stream",
     "text": [
      "Which method? 1\n"
     ]
    },
    {
     "name": "stdout",
     "output_type": "stream",
     "text": [
      "200\n",
      "201\n",
      "202\n",
      "203\n",
      "204\n",
      "205\n",
      "206\n",
      "207\n",
      "208\n",
      "209\n",
      "210\n",
      "211\n",
      "212\n",
      "213\n",
      "214\n",
      "215\n",
      "216\n",
      "217\n",
      "218\n",
      "219\n",
      "220\n",
      "221\n",
      "222\n",
      "223\n",
      "224\n",
      "225\n",
      "226\n",
      "227\n",
      "228\n",
      "229\n",
      "230\n",
      "231\n",
      "232\n",
      "233\n",
      "234\n",
      "235\n",
      "236\n",
      "237\n",
      "238\n",
      "239\n",
      "240\n",
      "241\n",
      "242\n",
      "243\n",
      "244\n",
      "245\n",
      "246\n",
      "247\n",
      "248\n",
      "249\n",
      "250\n",
      "251\n",
      "252\n",
      "253\n",
      "254\n",
      "255\n",
      "256\n",
      "257\n",
      "258\n",
      "259\n",
      "260\n",
      "261\n",
      "262\n",
      "263\n",
      "264\n",
      "265\n",
      "266\n",
      "267\n",
      "268\n",
      "269\n",
      "270\n",
      "271\n",
      "272\n",
      "273\n",
      "274\n",
      "275\n",
      "276\n",
      "277\n",
      "278\n",
      "279\n",
      "280\n",
      "281\n",
      "282\n",
      "283\n",
      "284\n",
      "285\n",
      "286\n",
      "287\n",
      "288\n",
      "289\n",
      "290\n",
      "291\n",
      "292\n",
      "293\n",
      "294\n",
      "295\n",
      "296\n",
      "297\n",
      "298\n",
      "299\n",
      "300\n"
     ]
    }
   ],
   "source": [
    "Method = int(input(\"Which method?\"))\n",
    "#Method 1\n",
    "if Method == 1:\n",
    "    for x in range(200,301):\n",
    "        print(x)\n",
    "\n",
    "#Method 2\n",
    "if Method == 2:\n",
    "    x=0\n",
    "    while x <= 300:\n",
    "        if x >= 200:\n",
    "            print(x)\n",
    "        x = x+1\n",
    "\n",
    "#Method 3\n",
    "if Method == 3:\n",
    "    numlist = list(range(0,400))\n",
    "    print(numlist[200:301])\n",
    "\n"
   ]
  },
  {
   "cell_type": "markdown",
   "id": "60f369ff",
   "metadata": {},
   "source": [
    "### Question 4\n",
    "Add or replace the following elements in the list animals (you will need to run the cell below):\n",
    "\n",
    "1. Replace fish wish another animal of your choice.\n",
    "2. Add another animal of your choice to the end of the list.\n",
    "3. Replace octopus with another animal of your choice.\n",
    "\n",
    "Print the edited list. \n"
   ]
  },
  {
   "cell_type": "code",
   "execution_count": 6,
   "id": "0b3abbe4",
   "metadata": {},
   "outputs": [],
   "source": [
    "# Replace elements in this list\n",
    "animals = [\"tiger\", \"lion\", \"badger\", \"fox\", \"rabbit\", \"fish\", \"dog\", \"octopus\"]"
   ]
  },
  {
   "cell_type": "code",
   "execution_count": 7,
   "id": "b9a6deef-ab81-4eb0-933b-ea5387f18f0e",
   "metadata": {},
   "outputs": [
    {
     "name": "stdout",
     "output_type": "stream",
     "text": [
      "['tiger', 'lion', 'badger', 'fox', 'rabbit', 'hippopotomus', 'dog', 'clownfish', 'eagle']\n"
     ]
    }
   ],
   "source": [
    "#replace fish\n",
    "animals[animals.index(\"fish\")] = \"hippopotomus\"\n",
    "\n",
    "#add another animal\n",
    "animals.append(\"eagle\")\n",
    "\n",
    "#replace octopus\n",
    "animals[animals.index(\"octopus\")] = \"clownfish\"\n",
    "\n",
    "print(animals)"
   ]
  },
  {
   "cell_type": "markdown",
   "id": "a909ec97",
   "metadata": {},
   "source": [
    "### Question 5\n",
    "Using pandas, generate a scatterplot of mpg vs hp using the cars dataset. The data set is read in and assigned to a dataframe by running the cell below. Ensure you have imported all the libraries you need. "
   ]
  },
  {
   "cell_type": "code",
   "execution_count": 5,
   "id": "6d615bca-a1f8-4010-ad5d-e8d9acdfe9f1",
   "metadata": {},
   "outputs": [],
   "source": [
    "mtcars = \"https://raw.githubusercontent.com/Apress/mastering-ml-w-python-in-six-steps/refs/heads/master/Chapter_2_Code/Data/mtcars.csv\"\n",
    "cars = pd.read_csv(mtcars)"
   ]
  },
  {
   "cell_type": "code",
   "execution_count": 8,
   "id": "245f98df",
   "metadata": {},
   "outputs": [
    {
     "data": {
      "image/png": "[encoded data removed]",
      "text/plain": [
       "<Figure size 640x480 with 1 Axes>"
      ]
     },
     "metadata": {},
     "output_type": "display_data"
    },
    {
     "name": "stdin",
     "output_type": "stream",
     "text": [
      "Save mpg/hp scatter plot? Y\n"
     ]
    },
    {
     "data": {
      "text/plain": [
       "<Figure size 640x480 with 0 Axes>"
      ]
     },
     "metadata": {},
     "output_type": "display_data"
    }
   ],
   "source": [
    "#make mpg/hp scatter plot\n",
    "cargraph1 = cars.plot.scatter(x='mpg', y='hp')\n",
    "    \n",
    "#show user plot\n",
    "plt.show()\n",
    "    \n",
    "#ask if user wants to save plot\n",
    "svgraph = bool(input(\"Save mpg/hp scatter plot?\"))\n",
    "#save plot if yes\n",
    "#ask if user wants to save the graph\n",
    "if svgraph == True:\n",
    "    plt.savefig(\"CarGraph1\")\n",
    "\n"
   ]
  },
  {
   "cell_type": "markdown",
   "id": "cf249a2f",
   "metadata": {},
   "source": [
    "### Question 6\n",
    "Using the startwars dataset imported below, identify the individuals with tallest height and lowest mass."
   ]
  },
  {
   "cell_type": "code",
   "execution_count": null,
   "id": "7a5ec1d7-78a1-4a6b-9d8f-9eeabc293afc",
   "metadata": {},
   "outputs": [],
   "source": []
  },
  {
   "cell_type": "code",
   "execution_count": 36,
   "id": "e3327930",
   "metadata": {},
   "outputs": [],
   "source": [
    "starwars_dataset=\"https://www.fabricionarcizo.com/post/starwars/updated_starwars.csv\"\n",
    "starwars = pd.read_csv(starwars_dataset)"
   ]
  },
  {
   "cell_type": "code",
   "execution_count": 24,
   "id": "ff3ceb45-86ee-4e3f-840a-6d94733fdce3",
   "metadata": {},
   "outputs": [
    {
     "data": {
      "text/plain": [
       "Index(['name', 'height', 'mass', 'hair_color', 'skin_color', 'eye_color',\n",
       "       'birth_year', 'birth_era', 'birth_place', 'death_year', 'death_era',\n",
       "       'death_place', 'sex', 'gender', 'pronoun', 'homeworld', 'species',\n",
       "       'occupation', 'cybernetics', 'abilities', 'equipment', 'films',\n",
       "       'vehicles', 'starships', 'photo'],\n",
       "      dtype='object')"
      ]
     },
     "execution_count": 24,
     "metadata": {},
     "output_type": "execute_result"
    }
   ],
   "source": []
  },
  {
   "cell_type": "code",
   "execution_count": 12,
   "id": "3aa2838f-ad05-48a0-b14d-2dc0b18be1fe",
   "metadata": {},
   "outputs": [
    {
     "ename": "ModuleNotFoundError",
     "evalue": "No module named 'panda'",
     "output_type": "error",
     "traceback": [
      "\u001b[0;31m---------------------------------------------------------------------------\u001b[0m",
      "\u001b[0;31mModuleNotFoundError\u001b[0m                       Traceback (most recent call last)",
      "Cell \u001b[0;32mIn[12], line 1\u001b[0m\n\u001b[0;32m----> 1\u001b[0m \u001b[38;5;28;01mimport\u001b[39;00m \u001b[38;5;21;01mpanda\u001b[39;00m \u001b[38;5;28;01mas\u001b[39;00m \u001b[38;5;21;01mpd\u001b[39;00m\n\u001b[1;32m      3\u001b[0m starwars_dataset \u001b[38;5;241m=\u001b[39m \u001b[38;5;124m\"\u001b[39m\u001b[38;5;124mhttps://www.fabricionarcizo.com/post/starwars/updated_starwars.csv\u001b[39m\u001b[38;5;124m\"\u001b[39m\n\u001b[1;32m      4\u001b[0m starwars \u001b[38;5;241m=\u001b[39m pd\u001b[38;5;241m.\u001b[39mread_csv(starwars_dataset)\n",
      "\u001b[0;31mModuleNotFoundError\u001b[0m: No module named 'panda'"
     ]
    }
   ],
   "source": [
    "import panda as pd\n",
    "\n",
    "starwars_dataset = \"https://www.fabricionarcizo.com/post/starwars/updated_starwars.csv\"\n",
    "starwars = pd.read_csv(starwars_dataset)\n",
    "maxheight = starwars[\n",
    "        starwars['height'].eq(starwars['height'].max())\n",
    "        ][['name', 'height']]\n",
    "\n",
    "maxmass = starwars[\n",
    "        starwars['mass'].eq(starwars['mass'].max())\n",
    "        ][['name', 'mass']]\n",
    "\n",
    "print(maxheight.to_markdown())\n",
    "print(maxmass.to_markdown())"
   ]
  },
  {
   "cell_type": "code",
   "execution_count": null,
   "id": "00f667fe-38f2-4478-bf9f-a47301f108c7",
   "metadata": {},
   "outputs": [],
   "source": []
  },
  {
   "cell_type": "markdown",
   "id": "95fa55ae-21d3-4156-ace8-e65b96b7226e",
   "metadata": {},
   "source": [
    "### Question 7\n",
    "Analyze the life expectancy dataset (which can be loaded by running the cell below).\n",
    "\n",
    "Calculate the number of unique countries in the dataset.\n",
    "\n",
    "Calculate the country and year with the highest life expectancy.\n",
    "\n",
    "Calculate the year with the highest total expenditure.\n",
    "\n",
    "Provide your code using pandas.\n"
   ]
  },
  {
   "cell_type": "code",
   "execution_count": 38,
   "id": "c2961279-cbcc-4247-bfa3-63fc06988186",
   "metadata": {},
   "outputs": [
    {
     "name": "stdout",
     "output_type": "stream",
     "text": [
      "Total number of unique countries: 6\n",
      "Country with highest mean life expectancy\n",
      "         Life_Expectancy\n",
      "Country                 \n",
      "France         79.565714\n",
      "Year with highest mean life expectancy\n",
      "      Life_Expectancy\n",
      "Year                 \n",
      "2019        81.833333\n",
      "Year with highest mean expenditure:\n",
      "      Spending_USD\n",
      "Year              \n",
      "2020   6629.874167\n",
      "Year with highest total expenditure:\n",
      "      Spending_USD\n",
      "Year              \n",
      "2020     39779.245\n"
     ]
    }
   ],
   "source": [
    "import seaborn as sns\n",
    "life_expectancy = sns.load_dataset('healthexp')\n",
    "\n",
    "life_expectancy = sns.load_dataset(\"healthexp\")\n",
    "\n",
    "#number of countries\n",
    "print(\"Total number of unique countries:\", life_expectancy[\"Country\"].nunique())\n",
    "\n",
    "#country with highest life expectancy\n",
    "life_country_grouped = life_expectancy.groupby(\"Country\").mean()\n",
    "Country_Life_exp = life_country_grouped.sort_values(\"Life_Expectancy\", ascending = False)\n",
    "Life_country = Country_Life_exp[[\"Life_Expectancy\"]]\n",
    "print(\"Country with highest mean life expectancy\")\n",
    "print(Life_country.head(1))\n",
    "\n",
    "#year with highest life expectancy\n",
    "Life_year = life_expectancy[[\"Year\", \"Life_Expectancy\"]]\n",
    "Life_year_group = Life_year.groupby(\"Year\").mean()\n",
    "Year_Life_exp = Life_year_group.sort_values(\"Life_Expectancy\", ascending = False)\n",
    "print(\"Year with highest mean life expectancy\")\n",
    "print(Year_Life_exp.head(1))\n",
    "\n",
    "#year with highest expenditure\n",
    "Expense_Life_crop = life_expectancy[[\"Year\", \"Spending_USD\"]]\n",
    "Expense_year_group = Expense_Life_crop.groupby(\"Year\").mean()\n",
    "Expense_Life_exp = Expense_year_group.sort_values(\"Spending_USD\", ascending = False)\n",
    "print(\"Year with highest mean expenditure:\")\n",
    "print(Expense_Life_exp.head(1))\n",
    "\n",
    "Expense_year_group = Expense_Life_crop.groupby(\"Year\").sum()\n",
    "Expense_Life_exp = Expense_year_group.sort_values(\"Spending_USD\", ascending=False)\n",
    "print(\"Year with highest total expenditure:\")\n",
    "print(Expense_Life_exp.head(1))"
   ]
  },
  {
   "cell_type": "code",
   "execution_count": null,
   "id": "93b6c9a4",
   "metadata": {},
   "outputs": [],
   "source": [
    "\n"
   ]
  },
  {
   "cell_type": "markdown",
   "id": "bc1d87d4",
   "metadata": {},
   "source": [
    "### Question 8\n",
    "Using the diamonds dataset and the plotting code of your choice, plot the following from the diamonds dataset.\n",
    "\n",
    "1. Carat vs Price in a scatter plot.\n",
    "2. A histogram of prices.\n",
    "3. A boxplot of cut vs price.\n",
    "\n",
    "The code can be loaded from seaborn in the cell below."
   ]
  },
  {
   "cell_type": "code",
   "execution_count": 39,
   "id": "0cf57f04-3fa2-470f-906a-d15180943d5f",
   "metadata": {},
   "outputs": [
    {
     "name": "stdin",
     "output_type": "stream",
     "text": [
      "Which graph to see? (S=Scatter of carat vs price, H=Histogram of price, B=Boxplot of cut vs price) S\n"
     ]
    },
    {
     "data": {
      "image/png": "[encoded data removed]",
      "text/plain": [
       "<Figure size 640x480 with 1 Axes>"
      ]
     },
     "metadata": {},
     "output_type": "display_data"
    }
   ],
   "source": [
    "diamonds = sns.load_dataset(\"diamonds\")\n",
    "Graphtype = input(\"Which graph to see? (S=Scatter of carat vs price, H=Histogram of price, B=Boxplot of cut vs price): \").strip().upper()\n",
    "\n",
    "if Graphtype == \"S\":\n",
    "    # Scatter plot Carat vs Price\n",
    "    plt.scatter(x=diamonds[\"carat\"], y=diamonds[\"price\"], s=0.75)\n",
    "    plt.xlabel(\"Carat\")\n",
    "    plt.ylabel(\"Diamond Price\")\n",
    "    plt.show()\n",
    "\n",
    "elif Graphtype == \"H\":\n",
    "    # Histogram of prices\n",
    "    plt.hist(diamonds[\"price\"], bins=30)\n",
    "    plt.xlabel(\"Price\")\n",
    "    plt.ylabel(\"Frequency\")\n",
    "    plt.show()\n",
    "\n",
    "elif Graphtype == \"B\":\n",
    "    # Boxplot of cut vs price\n",
    "    sns.boxplot(x=\"cut\", y=\"price\", data=diamonds)\n",
    "    plt.xlabel(\"Cut\")\n",
    "    plt.ylabel(\"Price\")\n",
    "    plt.show()\n",
    "\n",
    "else:\n",
    "    print(\"Invalid graph type selected.\")"
   ]
  },
  {
   "cell_type": "code",
   "execution_count": null,
   "id": "0e7638b1",
   "metadata": {},
   "outputs": [],
   "source": [
    "\n",
    "\n",
    "\n"
   ]
  },
  {
   "cell_type": "markdown",
   "id": "ff76cc7d",
   "metadata": {},
   "source": [
    "### Question 9\n",
    "\n",
    "Using the same dataset, identify the max and min price in diamonds dataset."
   ]
  },
  {
   "cell_type": "code",
   "execution_count": 10,
   "id": "99b1d89e",
   "metadata": {},
   "outputs": [
    {
     "name": "stdout",
     "output_type": "stream",
     "text": [
      "Cheapest diamond: £ 326\n",
      "Most expensive diamond: £ 18823\n"
     ]
    }
   ],
   "source": [
    "import seaborn as sns\n",
    "\n",
    "diamonds = sns.load_dataset(\"diamonds\")\n",
    "\n",
    "#sort by ascending price\n",
    "dia_cost_low = diamonds.sort_values(by = \"price\", ascending = True)\n",
    "\n",
    "#access lowest diamond value\n",
    "cheapest_diamond = dia_cost_low.iloc[0][\"price\"]\n",
    "\n",
    "print(\"Cheapest diamond: £\", cheapest_diamond)\n",
    "\n",
    "#sort by descending price\n",
    "dia_cost_high = diamonds.sort_values(by = \"price\", ascending = False)\n",
    "\n",
    "#access highest diamond value\n",
    "expensive_diamond = dia_cost_high.iloc[0][\"price\"]\n",
    "\n",
    "print(\"Most expensive diamond: £\", expensive_diamond)"
   ]
  },
  {
   "cell_type": "markdown",
   "id": "f36f35b2",
   "metadata": {},
   "source": [
    "### Question 10\n",
    "Write a function that will convert carat to grams and find the heaviest diamond.\n",
    "\n",
    "1 carat = 0.2 grams"
   ]
  },
  {
   "cell_type": "code",
   "execution_count": 9,
   "id": "68c11dfb",
   "metadata": {},
   "outputs": [
    {
     "name": "stdout",
     "output_type": "stream",
     "text": [
      "The heaviest diamond is:  1.002  grams\n"
     ]
    }
   ],
   "source": [
    "import seaborn as sns\n",
    "\n",
    "#import dataset\n",
    "diamonds = sns.load_dataset(\"diamonds\")\n",
    "\n",
    "#add carat column\n",
    "diamonds[\"weight_g\"] = diamonds[\"carat\"] * 0.2\n",
    "\n",
    "#sort data by weight\n",
    "dia_sort_carat = diamonds.sort_values(by = \"weight_g\", ascending = False)\n",
    "\n",
    "#select largest diamond (position 0 in dataset)\n",
    "heaviest_diamond_weight = dia_sort_carat.iloc[0][\"weight_g\"]\n",
    "\n",
    "print(\"The heaviest diamond is: \", heaviest_diamond_weight, \" grams\")\n"
   ]
  }
 ],
 "metadata": {
  "kernelspec": {
   "display_name": "Python 3 (ipykernel)",
   "language": "python",
   "name": "python3"
  },
  "language_info": {
   "codemirror_mode": {
    "name": "ipython",
    "version": 3
   },
   "file_extension": ".py",
   "mimetype": "text/x-python",
   "name": "python",
   "nbconvert_exporter": "python",
   "pygments_lexer": "ipython3",
   "version": "3.12.7"
  }
 },
 "nbformat": 4,
 "nbformat_minor": 5
}
